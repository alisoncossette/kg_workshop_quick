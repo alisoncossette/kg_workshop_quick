{
 "cells": [
  {
   "cell_type": "markdown",
   "metadata": {},
   "source": [
    "# Setting Up Your GraphRAG Environment\n",
    "\n",
    "This notebook will help you set up your environment for building Graph-Powered Retrieval-Augmented Generation (GraphRAG) applications. We'll:\n",
    "\n",
    "1. Install required packages\n",
    "2. Connect to Neo4j\n",
    "3. Configure OpenAI for LLM and embeddings\n",
    "4. Set up the neo4j_graphrag library\n",
    "5. Verify everything works"
   ]
  },
  {
   "cell_type": "markdown",
   "metadata": {},
   "source": [
    "## 1. Install Required Packages\n",
    "\n",
    "First, let's install the necessary packages:"
   ]
  },
  {
   "cell_type": "code",
   "execution_count": null,
   "metadata": {},
   "outputs": [],
   "source": [
    "!pip install neo4j python-dotenv openai neo4j_graphrag"
   ]
  },
  {
   "cell_type": "markdown",
   "metadata": {},
   "source": [
    "## 2. Connect to Neo4j\n",
    "\n",
    "We'll use environment variables to securely connect to Neo4j:"
   ]
  },
  {
   "cell_type": "code",
   "execution_count": null,
   "metadata": {},
   "outputs": [],
   "source": [
    "from neo4j import GraphDatabase\n",
    "from dotenv import load_dotenv\n",
    "import os\n",
    "\n",
    "# Load environment variables\n",
    "load_dotenv()\n",
    "\n",
    "# Connect to Neo4j\n",
    "URI = os.getenv('NEO4J_URI')\n",
    "AUTH = (os.getenv('NEO4J_USERNAME'), os.getenv('NEO4J_PASSWORD'))\n",
    "\n",
    "driver = GraphDatabase.driver(URI, auth=AUTH)\n",
    "\n",
    "# Test connection\n",
    "def test_connection():\n",
    "    with driver.session() as session:\n",
    "        result = session.run(\"RETURN 'Neo4j connection successful!' as message\")\n",
    "        print(result.single()[\"message\"])\n",
    "\n",
    "test_connection()"
   ]
  },
  {
   "cell_type": "markdown",
   "metadata": {},
   "source": [
    "## 3. Configure OpenAI\n",
    "\n",
    "We'll use OpenAI for both our LLM and embeddings:"
   ]
  },
  {
   "cell_type": "code",
   "execution_count": null,
   "metadata": {},
   "outputs": [],
   "source": [
    "import openai\n",
    "from neo4j_graphrag.llm import OpenAILLM\n",
    "from neo4j_graphrag.embedder import OpenAIEmbedder\n",
    "\n",
    "# Set OpenAI API key\n",
    "openai.api_key = os.getenv('OPENAI_API_KEY')\n",
    "\n",
    "# Initialize LLM and embedder\n",
    "llm = OpenAILLM()\n",
    "embedder = OpenAIEmbedder()\n",
    "\n",
    "# Test OpenAI connection\n",
    "try:\n",
    "    response = llm.complete(\"Say 'OpenAI connection successful!'\")\n",
    "    print(response)\n",
    "except Exception as e:\n",
    "    print(f\"Error connecting to OpenAI: {e}\")"
   ]
  },
  {
   "cell_type": "markdown",
   "metadata": {},
   "source": [
    "## 4. Set Up neo4j_graphrag\n",
    "\n",
    "Let's verify our GraphRAG components are working:"
   ]
  },
  {
   "cell_type": "code",
   "execution_count": null,
   "metadata": {},
   "outputs": [],
   "source": [
    "from neo4j_graphrag.experimental.pipeline.kg_builder import SimpleKGPipeline\n",
    "from neo4j_graphrag.experimental.components.text_splitters.fixed_size_splitter import FixedSizeSplitter\n",
    "\n",
    "# Create a simple pipeline to test\n",
    "try:\n",
    "    pipeline = SimpleKGPipeline(\n",
    "        driver=driver,\n",
    "        llm=llm,\n",
    "        embedder=embedder,\n",
    "        text_splitter=FixedSizeSplitter(chunk_size=500, chunk_overlap=100)\n",
    "    )\n",
    "    print(\"neo4j_graphrag setup successful!\")\n",
    "except Exception as e:\n",
    "    print(f\"Error setting up neo4j_graphrag: {e}\")"
   ]
  },
  {
   "cell_type": "markdown",
   "metadata": {},
   "source": [
    "## 5. Environment Check\n",
    "\n",
    "Let's make sure we have all required environment variables:"
   ]
  },
  {
   "cell_type": "code",
   "execution_count": null,
   "metadata": {},
   "outputs": [],
   "source": [
    "required_vars = ['NEO4J_URI', 'NEO4J_USERNAME', 'NEO4J_PASSWORD', 'OPENAI_API_KEY']\n",
    "\n",
    "for var in required_vars:\n",
    "    value = os.getenv(var)\n",
    "    if value:\n",
    "        print(f\"✓ {var} is set\")\n",
    "    else:\n",
    "        print(f\"✗ {var} is missing!\")"
   ]
  },
  {
   "cell_type": "markdown",
   "metadata": {},
   "source": [
    "## Next Steps\n",
    "\n",
    "Now that your environment is set up, you're ready to:\n",
    "1. Build your knowledge graph\n",
    "2. Process documents\n",
    "3. Implement GraphRAG patterns\n",
    "4. Create a memory graph\n",
    "\n",
    "Continue to the next notebook to start building your knowledge graph!"
   ]
  }
 ],
 "metadata": {
  "kernelspec": {
   "display_name": "Python 3",
   "language": "python",
   "name": "python3"
  }
 },
 "nbformat": 4,
 "nbformat_minor": 4
}

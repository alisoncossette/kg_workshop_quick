{
 "cells": [
  {
   "cell_type": "markdown",
   "metadata": {},
   "source": [
    "# Quick Setup\n",
    "\n",
    "Let's get connected to Neo4j and verify our environment."
   ]
  },
  {
   "cell_type": "code",
   "execution_count": null,
   "metadata": {},
   "source": [
    "from neo4j import GraphDatabase\n",
    "from dotenv import load_dotenv\n",
    "import os\n",
    "\n",
    "# Load environment variables\n",
    "load_dotenv()\n",
    "\n",
    "# Connect to Neo4j\n",
    "URI = os.getenv('NEO4J_URI')\n",
    "AUTH = (os.getenv('NEO4J_USERNAME'), os.getenv('NEO4J_PASSWORD'))\n",
    "\n",
    "driver = GraphDatabase.driver(URI, auth=AUTH)"
   ]
  },
  {
   "cell_type": "markdown",
   "metadata": {},
   "source": [
    "## Test Connection"
   ]
  },
  {
   "cell_type": "code",
   "execution_count": null,
   "metadata": {},
   "source": [
    "def test_connection():\n",
    "    with driver.session() as session:\n",
    "        result = session.run(\"RETURN 'Connection successful!' as message\")\n",
    "        print(result.single()[\"message\"])\n",
    "\n",
    "test_connection()"
   ]
  },
  {
   "cell_type": "markdown",
   "metadata": {},
   "source": [
    "## Load Sample Data"
   ]
  },
  {
   "cell_type": "code",
   "execution_count": null,
   "metadata": {},
   "source": [
    "def load_sample_data():\n",
    "    with driver.session() as session:\n",
    "        # Create sample customer\n",
    "        session.run(\"\"\"\n",
    "        CREATE (c:Customer {id: 'C1', name: 'John Doe'})\n",
    "        CREATE (p:Product {id: 'P1', name: 'Laptop Pro'})\n",
    "        CREATE (cat:Category {id: 'CAT1', name: 'Electronics'})\n",
    "        CREATE (o:Order {id: 'O1', date: date()})\n",
    "        CREATE (c)-[:PLACED_ORDER]->(o)\n",
    "        CREATE (o)-[:CONTAINS]->(p)\n",
    "        CREATE (p)-[:IN_CATEGORY]->(cat)\n",
    "        \"\"\")\n",
    "        \n",
    "        print(\"Sample data loaded!\")\n",
    "\n",
    "load_sample_data()"
   ]
  },
  {
   "cell_type": "markdown",
   "metadata": {},
   "source": [
    "## Verify Data"
   ]
  },
  {
   "cell_type": "code",
   "execution_count": null,
   "metadata": {},
   "source": [
    "def verify_data():\n",
    "    with driver.session() as session:\n",
    "        result = session.run(\"\"\"\n",
    "        MATCH (c:Customer)-[:PLACED_ORDER]->(o:Order)-[:CONTAINS]->(p:Product)\n",
    "        RETURN c.name as customer, p.name as product\n",
    "        \"\"\")\n",
    "        \n",
    "        for record in result:\n",
    "            print(f\"Customer {record['customer']} ordered {record['product']}\")\n",
    "\n",
    "verify_data()"
   ]
  },
  {
   "cell_type": "markdown",
   "metadata": {},
   "source": [
    "## Next Steps\n",
    "\n",
    "Now that we're connected and have sample data, let's move on to exploring the Knowledge Graph!"
   ]
  }
 ],
 "metadata": {
  "kernelspec": {
   "display_name": "Python 3",
   "language": "python",
   "name": "python3"
  }
 },
 "nbformat": 4,
 "nbformat_minor": 4
}

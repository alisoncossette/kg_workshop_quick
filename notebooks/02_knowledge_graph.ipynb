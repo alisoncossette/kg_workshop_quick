{
 "cells": [
  {
   "cell_type": "markdown",
   "metadata": {},
   "source": [
    "# Understanding Knowledge Graphs for GraphRAG\n",
    "\n",
    "In this notebook, we'll explore how to build and structure knowledge graphs for effective GraphRAG applications. We'll cover:\n",
    "\n",
    "1. Understanding knowledge graph concepts\n",
    "2. Different approaches to graph modeling\n",
    "3. Using the Neo4j LLM Knowledge Graph Builder\n",
    "4. Best practices for GraphRAG data modeling"
   ]
  },
  {
   "cell_type": "code",
   "execution_count": null,
   "metadata": {},
   "outputs": [],
   "source": [
    "from neo4j import GraphDatabase\n",
    "from dotenv import load_dotenv\n",
    "import os\n",
    "import openai\n",
    "from neo4j_graphrag.llm import OpenAILLM\n",
    "from neo4j_graphrag.embedder import OpenAIEmbedder\n",
    "from neo4j_graphrag.experimental.pipeline.kg_builder import SimpleKGPipeline\n",
    "\n",
    "# Load environment variables and connect\n",
    "load_dotenv()\n",
    "driver = GraphDatabase.driver(\n",
    "    os.getenv('NEO4J_URI'),\n",
    "    auth=(os.getenv('NEO4J_USERNAME'), os.getenv('NEO4J_PASSWORD'))\n",
    ")\n",
    "\n",
    "# Initialize OpenAI components\n",
    "openai.api_key = os.getenv('OPENAI_API_KEY')\n",
    "llm = OpenAILLM()\n",
    "embedder = OpenAIEmbedder()"
   ]
  },
  {
   "cell_type": "markdown",
   "metadata": {},
   "source": [
    "## 1. Knowledge Graph Concepts\n",
    "\n",
    "A knowledge graph is a structured representation of information where:\n",
    "- Nodes represent entities (e.g., products, customers, documents)\n",
    "- Relationships connect these entities (e.g., PURCHASED, CONTAINS, MENTIONS)\n",
    "- Properties store attributes about entities and relationships\n",
    "\n",
    "In GraphRAG, knowledge graphs serve two key purposes:\n",
    "1. Providing structured context for LLM queries\n",
    "2. Enabling graph-based retrieval patterns"
   ]
  },
  {
   "cell_type": "markdown",
   "metadata": {},
   "source": [
    "## 2. Graph Modeling Approaches\n",
    "\n",
    "There are two main approaches to building knowledge graphs for GraphRAG:\n",
    "\n",
    "### 2.1 Domain Graph (Structured Data)\n",
    "- Built from existing structured data\n",
    "- Clear schema and relationships\n",
    "- Example: Customer-Product-Order graph"
   ]
  },
  {
   "cell_type": "code",
   "execution_count": null,
   "metadata": {},
   "outputs": [],
   "source": [
    "def create_domain_graph_example():\n",
    "    with driver.session() as session:\n",
    "        # Clear existing data\n",
    "        session.run(\"MATCH (n) DETACH DELETE n\")\n",
    "        \n",
    "        # Create example domain graph\n",
    "        session.run(\"\"\"\n",
    "        CREATE (c:Customer {name: 'John Doe', id: '123'})\n",
    "        CREATE (p1:Product {name: 'Laptop', id: 'P1', description: 'High-performance laptop'})\n",
    "        CREATE (p2:Product {name: 'Mouse', id: 'P2', description: 'Wireless mouse'})\n",
    "        CREATE (o:Order {id: 'O1', date: date()})\n",
    "        CREATE (c)-[:PLACED_ORDER]->(o)\n",
    "        CREATE (o)-[:CONTAINS]->(p1)\n",
    "        CREATE (o)-[:CONTAINS]->(p2)\n",
    "        \"\"\")\n",
    "\n",
    "create_domain_graph_example()"
   ]
  },
  {
   "cell_type": "markdown",
   "metadata": {},
   "source": [
    "### 2.2 Lexical Graph (Unstructured Data)\n",
    "- Built from documents and text\n",
    "- Flexible schema\n",
    "- Example: Document-Entity-Concept graph"
   ]
  },
  {
   "cell_type": "code",
   "execution_count": null,
   "metadata": {},
   "outputs": [],
   "source": [
    "# Initialize Knowledge Graph Builder for lexical graph\n",
    "pipeline = SimpleKGPipeline(\n",
    "    driver=driver,\n",
    "    llm=llm,\n",
    "    embedder=embedder,\n",
    "    entities=[\"Entity\", \"Concept\"],\n",
    "    relations=[\"RELATED_TO\", \"MENTIONS\"]\n",
    ")\n",
    "\n",
    "# Example text to process\n",
    "sample_text = \"\"\"\n",
    "The new laptop features a powerful processor and comes with a wireless mouse.\n",
    "It's perfect for both gaming and professional work.\n",
    "\"\"\"\n",
    "\n",
    "# Process text to create lexical graph\n",
    "pipeline.run(text=sample_text)"
   ]
  },
  {
   "cell_type": "markdown",
   "metadata": {},
   "source": [
    "## 3. Using Neo4j LLM Knowledge Graph Builder\n",
    "\n",
    "The Knowledge Graph Builder helps you:\n",
    "1. Extract entities and relationships from text\n",
    "2. Create graph structures automatically\n",
    "3. Maintain context between documents"
   ]
  },
  {
   "cell_type": "code",
   "execution_count": null,
   "metadata": {},
   "outputs": [],
   "source": [
    "# Configure Knowledge Graph Builder with custom schema\n",
    "custom_pipeline = SimpleKGPipeline(\n",
    "    driver=driver,\n",
    "    llm=llm,\n",
    "    embedder=embedder,\n",
    "    entities=[\"Product\", \"Feature\", \"UseCase\"],\n",
    "    relations=[\"HAS_FEATURE\", \"SUITABLE_FOR\"]\n",
    ")\n",
    "\n",
    "# Process product documentation\n",
    "product_doc = \"\"\"\n",
    "Our laptop features 32GB RAM and an NVIDIA GPU.\n",
    "It's ideal for video editing and 3D rendering.\n",
    "\"\"\"\n",
    "\n",
    "custom_pipeline.run(text=product_doc)"
   ]
  },
  {
   "cell_type": "markdown",
   "metadata": {},
   "source": [
    "## 4. Best Practices for GraphRAG Data Modeling\n",
    "\n",
    "When building knowledge graphs for GraphRAG:\n",
    "\n",
    "1. **Start Simple**\n",
    "   - Begin with core entities and relationships\n",
    "   - Add complexity iteratively\n",
    "\n",
    "2. **Maintain Context**\n",
    "   - Connect related information\n",
    "   - Preserve document sources\n",
    "\n",
    "3. **Balance Structure**\n",
    "   - Combine domain and lexical approaches\n",
    "   - Use flexible schemas for unstructured data\n",
    "\n",
    "4. **Think About Queries**\n",
    "   - Design for intended use cases\n",
    "   - Consider traversal patterns"
   ]
  },
  {
   "cell_type": "code",
   "execution_count": null,
   "metadata": {},
   "outputs": [],
   "source": [
    "def explore_graph():\n",
    "    with driver.session() as session:\n",
    "        # View entities and relationships\n",
    "        result = session.run(\"\"\"\n",
    "        MATCH (n)\n",
    "        OPTIONAL MATCH (n)-[r]->()\n",
    "        RETURN DISTINCT\n",
    "            labels(n) as node_types,\n",
    "            count(DISTINCT n) as node_count,\n",
    "            collect(DISTINCT type(r)) as relationship_types\n",
    "        \"\"\")\n",
    "        \n",
    "        for record in result:\n",
    "            print(f\"Node type: {record['node_types']}\")\n",
    "            print(f\"Count: {record['node_count']}\")\n",
    "            print(f\"Relationships: {record['relationship_types']}\\n\")\n",
    "\n",
    "explore_graph()"
   ]
  },
  {
   "cell_type": "markdown",
   "metadata": {},
   "source": [
    "## Next Steps\n",
    "\n",
    "Now that you understand how to build and structure knowledge graphs, move on to the next notebook to learn about document processing and vector search!"
   ]
  }
 ],
 "metadata": {
  "kernelspec": {
   "display_name": "Python 3",
   "language": "python",
   "name": "python3"
  }
 },
 "nbformat": 4,
 "nbformat_minor": 4
}

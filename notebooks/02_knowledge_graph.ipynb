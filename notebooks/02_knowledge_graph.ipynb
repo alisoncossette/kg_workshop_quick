{
 "cells": [
  {
   "cell_type": "markdown",
   "metadata": {},
   "source": [
    "# Knowledge Graph Essentials\n",
    "\n",
    "We'll explore our CRM graph and see how data is connected."
   ]
  },
  {
   "cell_type": "code",
   "execution_count": null,
   "metadata": {},
   "source": [
    "from neo4j import GraphDatabase\n",
    "from dotenv import load_dotenv\n",
    "import os\n",
    "\n",
    "load_dotenv()\n",
    "driver = GraphDatabase.driver(\n",
    "    os.getenv('NEO4J_URI'),\n",
    "    auth=(os.getenv('NEO4J_USERNAME'), os.getenv('NEO4J_PASSWORD'))\n",
    ")"
   ]
  },
  {
   "cell_type": "markdown",
   "metadata": {},
   "source": [
    "## Explore Customer Orders"
   ]
  },
  {
   "cell_type": "code",
   "execution_count": null,
   "metadata": {},
   "source": [
    "def get_customer_orders(customer_id):\n",
    "    with driver.session() as session:\n",
    "        result = session.run(\"\"\"\n",
    "        MATCH (c:Customer {customer_id: $customer_id})\n",
    "        MATCH path = (c)-[:PLACED_ORDER]->(o:Order)-[:CONTAINS]->(p:Product)\n",
    "        RETURN c.name as customer, \n",
    "               collect(p.name) as products,\n",
    "               count(o) as order_count\n",
    "        \"\"\", customer_id=customer_id)\n",
    "        \n",
    "        return result.single()\n",
    "\n",
    "# Try it with customer C1\n",
    "print(get_customer_orders('C1'))"
   ]
  },
  {
   "cell_type": "markdown",
   "metadata": {},
   "source": [
    "## Find Related Products"
   ]
  },
  {
   "cell_type": "code",
   "execution_count": null,
   "metadata": {},
   "source": [
    "def find_related_products(product_id):\n",
    "    with driver.session() as session:\n",
    "        result = session.run(\"\"\"\n",
    "        MATCH (p1:Product {product_id: $product_id})-[:IN_CATEGORY]->(cat:Category)\n",
    "        MATCH (p2:Product)-[:IN_CATEGORY]->(cat)\n",
    "        WHERE p1 <> p2\n",
    "        RETURN p2.name as related_product,\n",
    "               cat.name as category\n",
    "        \"\"\", product_id=product_id)\n",
    "        \n",
    "        return list(result)\n",
    "\n",
    "# Find products related to P1 (Laptop Pro)\n",
    "print(find_related_products('P1'))"
   ]
  },
  {
   "cell_type": "markdown",
   "metadata": {},
   "source": [
    "## Customer Purchase Patterns"
   ]
  },
  {
   "cell_type": "code",
   "execution_count": null,
   "metadata": {},
   "source": [
    "def analyze_purchase_patterns():\n",
    "    with driver.session() as session:\n",
    "        result = session.run(\"\"\"\n",
    "        MATCH (cat:Category)<-[:IN_CATEGORY]-(p:Product)\n",
    "                           <-[:CONTAINS]-(o:Order)\n",
    "                           <-[:PLACED_ORDER]-(c:Customer)\n",
    "        RETURN cat.name as category,\n",
    "               count(DISTINCT c) as customer_count,\n",
    "               count(o) as order_count\n",
    "        ORDER BY order_count DESC\n",
    "        \"\"\")\n",
    "        \n",
    "        return list(result)\n",
    "\n",
    "print(\"Purchase Patterns by Category:\")\n",
    "for record in analyze_purchase_patterns():\n",
    "    print(f\"{record['category']}: {record['order_count']} orders by {record['customer_count']} customers\")"
   ]
  },
  {
   "cell_type": "markdown",
   "metadata": {},
   "source": [
    "## Next Steps\n",
    "\n",
    "Now that we understand our graph structure, let's see how to process and connect documents!"
   ]
  }
 ],
 "metadata": {
  "kernelspec": {
   "display_name": "Python 3",
   "language": "python",
   "name": "python3"
  }
 },
 "nbformat": 4,
 "nbformat_minor": 4
}

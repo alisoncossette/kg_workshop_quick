{
 "cells": [
  {
   "cell_type": "markdown",
   "metadata": {},
   "source": [
    "# Document Processing with GraphRAG\n",
    "\n",
    "Let's see how to process documents and connect them to our graph using Neo4j's GraphRAG library."
   ]
  },
  {
   "cell_type": "code",
   "execution_count": null,
   "metadata": {},
   "outputs": [],
   "source": [
    "from neo4j import GraphDatabase\n",
    "from dotenv import load_dotenv\n",
    "import os\n",
    "import openai\n",
    "from neo4j_graphrag.experimental.components.text_splitters.fixed_size_splitter import FixedSizeSplitter\n",
    "from neo4j_graphrag.experimental.pipeline.kg_builder import SimpleKGPipeline\n",
    "from neo4j_graphrag.llm import OpenAILLM\n",
    "from neo4j_graphrag.embedder import OpenAIEmbedder\n",
    "\n",
    "# Load environment variables\n",
    "load_dotenv()\n",
    "\n",
    "# Connect to Neo4j\n",
    "driver = GraphDatabase.driver(\n",
    "    os.getenv('NEO4J_URI'),\n",
    "    auth=(os.getenv('NEO4J_USERNAME'), os.getenv('NEO4J_PASSWORD'))\n",
    ")\n",
    "\n",
    "# Initialize OpenAI\n",
    "openai.api_key = os.getenv('OPENAI_API_KEY')\n",
    "llm = OpenAILLM()\n",
    "embedder = OpenAIEmbedder()"
   ]
  },
  {
   "cell_type": "markdown",
   "metadata": {},
   "source": [
    "## Configure Knowledge Graph Builder\n",
    "\n",
    "First, let's configure our Knowledge Graph Builder with the entities and relationships we want to extract:"
   ]
  },
  {
   "cell_type": "code",
   "execution_count": null,
   "metadata": {},
   "outputs": [],
   "source": [
    "# Define node labels and relationship types to extract\n",
    "node_labels = ['Product', 'Feature', 'Issue', 'Solution']\n",
    "rel_types = ['HAS_FEATURE', 'HAS_ISSUE', 'RESOLVES']\n",
    "\n",
    "# Define prompt template for entity and relationship extraction\n",
    "prompt_template = \"\"\"\n",
    "Given the following text, identify:\n",
    "1. Products and their features\n",
    "2. Issues or problems mentioned\n",
    "3. Solutions or resolutions described\n",
    "\n",
    "Create nodes for each entity and connect them with appropriate relationships.\n",
    "\n",
    "Text: {text}\n",
    "\"\"\"\n",
    "\n",
    "# Initialize Knowledge Graph Builder\n",
    "kg_builder = SimpleKGPipeline(\n",
    "    llm=llm,\n",
    "    driver=driver,\n",
    "    text_splitter=FixedSizeSplitter(chunk_size=500, chunk_overlap=100),\n",
    "    embedder=embedder,\n",
    "    entities=node_labels,\n",
    "    relations=rel_types,\n",
    "    prompt_template=prompt_template,\n",
    "    from_pdf=True\n",
    ")"
   ]
  },
  {
   "cell_type": "markdown",
   "metadata": {},
   "source": [
    "## Process Product Documentation\n",
    "\n",
    "Now let's process our product documentation PDFs and add them to the graph:"
   ]
  },
  {
   "cell_type": "code",
   "execution_count": null,
   "metadata": {},
   "outputs": [],
   "source": [
    "# List of PDF files to process\n",
    "pdf_files = [\n",
    "    '../data/documents/laptop_pro_manual.pdf',\n",
    "    '../data/documents/wireless_mouse_guide.pdf',\n",
    "    '../data/documents/monitor_4k_manual.pdf'\n",
    "]\n",
    "\n",
    "# Process each PDF\n",
    "for pdf_file in pdf_files:\n",
    "    print(f\"Processing: {pdf_file}\")\n",
    "    result = await kg_builder.run_async(file_path=pdf_file)\n",
    "    print(f\"Result: {result}\\n\")"
   ]
  },
  {
   "cell_type": "markdown",
   "metadata": {},
   "source": [
    "## Process Support Cases\n",
    "\n",
    "Next, let's process our support case documents:"
   ]
  },
  {
   "cell_type": "code",
   "execution_count": null,
   "metadata": {},
   "outputs": [],
   "source": [
    "# Update prompt template for support cases\n",
    "support_prompt_template = \"\"\"\n",
    "Given the following support case text, identify:\n",
    "1. Products mentioned\n",
    "2. Issues or problems reported\n",
    "3. Solutions provided or attempted\n",
    "\n",
    "Create nodes for each entity and connect them with appropriate relationships.\n",
    "\n",
    "Text: {text}\n",
    "\"\"\"\n",
    "\n",
    "# Initialize Knowledge Graph Builder for support cases\n",
    "support_kg_builder = SimpleKGPipeline(\n",
    "    llm=llm,\n",
    "    driver=driver,\n",
    "    text_splitter=FixedSizeSplitter(chunk_size=500, chunk_overlap=100),\n",
    "    embedder=embedder,\n",
    "    entities=node_labels,\n",
    "    relations=rel_types,\n",
    "    prompt_template=support_prompt_template,\n",
    "    from_pdf=True\n",
    ")\n",
    "\n",
    "# List of support case PDFs\n",
    "support_files = [\n",
    "    '../data/documents/support_case_1.pdf',\n",
    "    '../data/documents/support_case_2.pdf'\n",
    "]\n",
    "\n",
    "# Process each support case\n",
    "for support_file in support_files:\n",
    "    print(f\"Processing: {support_file}\")\n",
    "    result = await support_kg_builder.run_async(file_path=support_file)\n",
    "    print(f\"Result: {result}\\n\")"
   ]
  },
  {
   "cell_type": "markdown",
   "metadata": {},
   "source": [
    "## Query the Knowledge Graph\n",
    "\n",
    "Let's verify that our documents were processed and connected correctly:"
   ]
  },
  {
   "cell_type": "code",
   "execution_count": null,
   "metadata": {},
   "outputs": [],
   "source": [
    "def explore_product_knowledge(product_name):\n",
    "    \"\"\"Explore knowledge extracted about a specific product.\"\"\"\n",
    "    with driver.session() as session:\n",
    "        result = session.run(\"\"\"\n",
    "        MATCH (p:Product {name: $name})\n",
    "        OPTIONAL MATCH (p)-[:HAS_FEATURE]->(f:Feature)\n",
    "        OPTIONAL MATCH (p)-[:HAS_ISSUE]->(i:Issue)\n",
    "        OPTIONAL MATCH (s:Solution)-[:RESOLVES]->(i)\n",
    "        RETURN p.name as product,\n",
    "               collect(DISTINCT f.name) as features,\n",
    "               collect(DISTINCT {issue: i.name, solution: s.name}) as issues_and_solutions\n",
    "        \"\"\", name=product_name)\n",
    "        \n",
    "        for record in result:\n",
    "            print(f\"\\nProduct: {record['product']}\")\n",
    "            print(\"\\nFeatures:\")\n",
    "            for feature in record['features']:\n",
    "                print(f\"- {feature}\")\n",
    "            print(\"\\nIssues and Solutions:\")\n",
    "            for item in record['issues_and_solutions']:\n",
    "                if item['issue']:\n",
    "                    print(f\"- Issue: {item['issue']}\")\n",
    "                    if item['solution']:\n",
    "                        print(f\"  Solution: {item['solution']}\")\n",
    "\n",
    "# Explore knowledge about the Laptop Pro\n",
    "explore_product_knowledge('Laptop Pro')"
   ]
  },
  {
   "cell_type": "markdown",
   "metadata": {},
   "source": [
    "## Next Steps\n",
    "\n",
    "Now that we have processed our documents and connected them to the graph, let's explore GraphRAG patterns for retrieving and using this knowledge!"
   ]
  }
 ],
 "metadata": {
  "kernelspec": {
   "display_name": "Python 3",
   "language": "python",
   "name": "python3"
  }
 },
 "nbformat": 4,
 "nbformat_minor": 4
}

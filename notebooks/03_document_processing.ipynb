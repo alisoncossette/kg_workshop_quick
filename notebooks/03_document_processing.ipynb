{
 "cells": [
  {
   "cell_type": "markdown",
   "metadata": {},
   "source": [
    "# Document Processing\n",
    "\n",
    "Let's see how to connect documents to our graph using the Knowledge Graph Builder."
   ]
  },
  {
   "cell_type": "code",
   "execution_count": null,
   "metadata": {},
   "outputs": [],
   "source": [
    "from neo4j import GraphDatabase\n",
    "from dotenv import load_dotenv\n",
    "import os\n",
    "\n",
    "load_dotenv()\n",
    "driver = GraphDatabase.driver(\n",
    "    os.getenv('NEO4J_URI'),\n",
    "    auth=(os.getenv('NEO4J_USERNAME'), os.getenv('NEO4J_PASSWORD'))\n",
    ")"
   ]
  },
  {
   "cell_type": "markdown",
   "metadata": {},
   "source": [
    "## Connect Product Manual"
   ]
  },
  {
   "cell_type": "code",
   "execution_count": null,
   "metadata": {},
   "outputs": [],
   "source": [
    "def add_product_manual(product_id, file_path):\n",
    "    with open(file_path, 'r') as f:\n",
    "        content = f.read()\n",
    "    \n",
    "    with driver.session() as session:\n",
    "        result = session.run(\"\"\"\n",
    "        MATCH (p:Product {product_id: $product_id})\n",
    "        CREATE (d:Document {\n",
    "            id: randomUUID(),\n",
    "            type: 'manual',\n",
    "            content: $content,\n",
    "            created_at: datetime()\n",
    "        })\n",
    "        CREATE (p)-[:HAS_MANUAL]->(d)\n",
    "        RETURN d.id as doc_id\n",
    "        \"\"\", product_id=product_id, content=content)\n",
    "        \n",
    "        return result.single()['doc_id']\n",
    "\n",
    "# Add Laptop Pro manual\n",
    "manual_id = add_product_manual('P1', '../data/documents/laptop_pro_manual.txt')\n",
    "print(f\"Added manual with ID: {manual_id}\")"
   ]
  },
  {
   "cell_type": "markdown",
   "metadata": {},
   "source": [
    "## Connect Support Case"
   ]
  },
  {
   "cell_type": "code",
   "execution_count": null,
   "metadata": {},
   "outputs": [],
   "source": [
    "def add_support_case(file_path):\n",
    "    with open(file_path, 'r') as f:\n",
    "        content = f.read()\n",
    "    \n",
    "    with driver.session() as session:\n",
    "        result = session.run(\"\"\"\n",
    "        CREATE (d:Document {\n",
    "            id: randomUUID(),\n",
    "            type: 'support_case',\n",
    "            content: $content,\n",
    "            created_at: datetime()\n",
    "        })\n",
    "        WITH d\n",
    "        MATCH (c:Customer {customer_id: 'C1'})\n",
    "        MATCH (p:Product {product_id: 'P1'})\n",
    "        CREATE (c)-[:HAS_CASE]->(d)\n",
    "        CREATE (d)-[:ABOUT]->(p)\n",
    "        RETURN d.id as doc_id\n",
    "        \"\"\")\n",
    "        \n",
    "        return result.single()['doc_id']\n",
    "\n",
    "# Add support case\n",
    "case_id = add_support_case('../data/documents/support_case_1.txt')\n",
    "print(f\"Added support case with ID: {case_id}\")"
   ]
  },
  {
   "cell_type": "markdown",
   "metadata": {},
   "source": [
    "## Query Connected Documents"
   ]
  },
  {
   "cell_type": "code",
   "execution_count": null,
   "metadata": {},
   "outputs": [],
   "source": [
    "def get_product_documents(product_id):\n",
    "    with driver.session() as session:\n",
    "        result = session.run(\"\"\"\n",
    "        MATCH (p:Product {product_id: $product_id})\n",
    "        MATCH (p)-[:HAS_MANUAL|ABOUT]-(d:Document)\n",
    "        RETURN d.type as doc_type,\n",
    "               d.content as content\n",
    "        \"\"\", product_id=product_id)\n",
    "        \n",
    "        return list(result)\n",
    "\n",
    "# Get documents for Laptop Pro\n",
    "docs = get_product_documents('P1')\n",
    "for doc in docs:\n",
    "    print(f\"\\nDocument Type: {doc['doc_type']}\")\n",
    "    print(f\"Content Preview: {doc['content'][:100]}...\")"
   ]
  },
  {
   "cell_type": "markdown",
   "metadata": {},
   "source": [
    "## Next Steps\n",
    "\n",
    "Now that we have documents connected to our graph, let's explore GraphRAG patterns!"
   ]
  }
 ],
 "metadata": {
  "kernelspec": {
   "display_name": "Python 3",
   "language": "python",
   "name": "python3"
  }
 },
 "nbformat": 4,
 "nbformat_minor": 4
}

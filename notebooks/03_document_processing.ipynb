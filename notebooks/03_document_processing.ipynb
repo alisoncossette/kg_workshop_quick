{
 "cells": [
  {
   "cell_type": "markdown",
   "metadata": {},
   "source": [
    "# Document Processing\n",
    "\n",
    "Let's see how to connect documents to our graph using Neo4j's document processing capabilities."
   ]
  },
  {
   "cell_type": "code",
   "execution_count": null,
   "metadata": {},
   "outputs": [],
   "source": [
    "from neo4j import GraphDatabase\n",
    "from dotenv import load_dotenv\n",
    "import os\n",
    "\n",
    "load_dotenv()\n",
    "driver = GraphDatabase.driver(\n",
    "    os.getenv('NEO4J_URI'),\n",
    "    auth=(os.getenv('NEO4J_USERNAME'), os.getenv('NEO4J_PASSWORD'))\n",
    ")"
   ]
  },
  {
   "cell_type": "markdown",
   "metadata": {},
   "source": [
    "## Connect Product Manual\n",
    "\n",
    "First, let's create a function to connect a product manual to a product in our graph:"
   ]
  },
  {
   "cell_type": "code",
   "execution_count": null,
   "metadata": {},
   "outputs": [],
   "source": [
    "def add_product_manual(product_id, file_path):\n",
    "    \"\"\"Add a product manual document and connect it to a product.\n",
    "    \n",
    "    Args:\n",
    "        product_id (str): ID of the product to connect the manual to\n",
    "        file_path (str): Path to the manual text file\n",
    "        \n",
    "    Returns:\n",
    "        str: ID of the created document\n",
    "    \"\"\"\n",
    "    with open(file_path, 'r') as f:\n",
    "        content = f.read()\n",
    "    \n",
    "    with driver.session() as session:\n",
    "        result = session.run(\"\"\"\n",
    "        MATCH (p:Product {id: $product_id})\n",
    "        CREATE (d:Document {\n",
    "            id: randomUUID(),\n",
    "            type: 'manual',\n",
    "            content: $content,\n",
    "            created_at: datetime()\n",
    "        })\n",
    "        CREATE (p)-[:HAS_MANUAL]->(d)\n",
    "        RETURN d.id as doc_id\n",
    "        \"\"\", product_id=product_id, content=content)\n",
    "        \n",
    "        return result.single()['doc_id']"
   ]
  },
  {
   "cell_type": "markdown",
   "metadata": {},
   "source": [
    "## Connect Support Case\n",
    "\n",
    "Now let's create a function to connect a support case document to both a customer and a product:"
   ]
  },
  {
   "cell_type": "code",
   "execution_count": null,
   "metadata": {},
   "outputs": [],
   "source": [
    "def add_support_case(customer_id, product_id, file_path):\n",
    "    \"\"\"Add a support case document and connect it to a customer and product.\n",
    "    \n",
    "    Args:\n",
    "        customer_id (str): ID of the customer who filed the case\n",
    "        product_id (str): ID of the product the case is about\n",
    "        file_path (str): Path to the support case text file\n",
    "        \n",
    "    Returns:\n",
    "        str: ID of the created document\n",
    "    \"\"\"\n",
    "    with open(file_path, 'r') as f:\n",
    "        content = f.read()\n",
    "    \n",
    "    with driver.session() as session:\n",
    "        result = session.run(\"\"\"\n",
    "        MATCH (c:Customer {id: $customer_id})\n",
    "        MATCH (p:Product {id: $product_id})\n",
    "        CREATE (d:Document {\n",
    "            id: randomUUID(),\n",
    "            type: 'support_case',\n",
    "            content: $content,\n",
    "            created_at: datetime()\n",
    "        })\n",
    "        CREATE (c)-[:HAS_CASE]->(d)\n",
    "        CREATE (d)-[:ABOUT]->(p)\n",
    "        RETURN d.id as doc_id\n",
    "        \"\"\", customer_id=customer_id, product_id=product_id, content=content)\n",
    "        \n",
    "        return result.single()['doc_id']"
   ]
  },
  {
   "cell_type": "markdown",
   "metadata": {},
   "source": [
    "## Query Connected Documents\n",
    "\n",
    "Finally, let's create functions to query documents connected to products and customers:"
   ]
  },
  {
   "cell_type": "code",
   "execution_count": null,
   "metadata": {},
   "outputs": [],
   "source": [
    "def get_product_documents(product_id):\n",
    "    \"\"\"Get all documents connected to a product.\n",
    "    \n",
    "    Args:\n",
    "        product_id (str): ID of the product to get documents for\n",
    "        \n",
    "    Returns:\n",
    "        list: List of documents with their type and content\n",
    "    \"\"\"\n",
    "    with driver.session() as session:\n",
    "        result = session.run(\"\"\"\n",
    "        MATCH (p:Product {id: $product_id})\n",
    "        MATCH (p)-[:HAS_MANUAL|ABOUT]-(d:Document)\n",
    "        RETURN d.type as doc_type,\n",
    "               d.content as content\n",
    "        \"\"\", product_id=product_id)\n",
    "        \n",
    "        return list(result)\n",
    "\n",
    "def get_customer_documents(customer_id):\n",
    "    \"\"\"Get all documents connected to a customer.\n",
    "    \n",
    "    Args:\n",
    "        customer_id (str): ID of the customer to get documents for\n",
    "        \n",
    "    Returns:\n",
    "        list: List of documents with their type and content\n",
    "    \"\"\"\n",
    "    with driver.session() as session:\n",
    "        result = session.run(\"\"\"\n",
    "        MATCH (c:Customer {id: $customer_id})\n",
    "        MATCH (c)-[:HAS_CASE]->(d:Document)\n",
    "        RETURN d.type as doc_type,\n",
    "               d.content as content\n",
    "        \"\"\", customer_id=customer_id)\n",
    "        \n",
    "        return list(result)"
   ]
  },
  {
   "cell_type": "markdown",
   "metadata": {},
   "source": [
    "## Example Usage\n",
    "\n",
    "Here's how to use these functions:\n",
    "\n",
    "1. Add a product manual:\n",
    "```python\n",
    "manual_id = add_product_manual('product-123', 'path/to/manual.txt')\n",
    "```\n",
    "\n",
    "2. Add a support case:\n",
    "```python\n",
    "case_id = add_support_case('customer-456', 'product-123', 'path/to/case.txt')\n",
    "```\n",
    "\n",
    "3. Query documents:\n",
    "```python\n",
    "product_docs = get_product_documents('product-123')\n",
    "customer_docs = get_customer_documents('customer-456')\n",
    "```\n",
    "\n",
    "## Next Steps\n",
    "\n",
    "Now that we have functions to connect documents to our graph, let's explore GraphRAG patterns!"
   ]
  }
 ],
 "metadata": {
  "kernelspec": {
   "display_name": "Python 3",
   "language": "python",
   "name": "python3"
  }
 },
 "nbformat": 4,
 "nbformat_minor": 4
}

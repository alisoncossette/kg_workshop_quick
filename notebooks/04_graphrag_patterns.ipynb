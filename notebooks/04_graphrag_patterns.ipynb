{
 "cells": [
  {
   "cell_type": "markdown",
   "metadata": {},
   "source": [
    "# GraphRAG Patterns with Neo4j\n",
    "\n",
    "This notebook demonstrates how to use Neo4j's GraphRAG library to implement retrieval-augmented generation with graph context, starting with simple patterns and building up to more complex ones."
   ]
  },
  {
   "cell_type": "code",
   "execution_count": null,
   "metadata": {},
   "outputs": [],
   "source": [
    "from neo4j import GraphDatabase\n",
    "from dotenv import load_dotenv\n",
    "import os\n",
    "from neo4j_graphrag.llm import OpenAILLM\n",
    "from neo4j_graphrag.embeddings.openai import OpenAIEmbeddings\n",
    "from neo4j_graphrag.indexes import create_vector_index\n",
    "from neo4j_graphrag.retrievers import VectorRetriever, VectorCypherRetriever\n",
    "from neo4j_graphrag import GraphRAG, RagTemplate\n",
    "\n",
    "# Load environment variables\n",
    "load_dotenv()\n",
    "\n",
    "# Initialize Neo4j connection\n",
    "URI = os.getenv('NEO4J_URI')\n",
    "AUTH = (os.getenv('NEO4J_USERNAME'), os.getenv('NEO4J_PASSWORD'))\n",
    "OPENAI_API_KEY = os.getenv('OPENAI_API_KEY')\n",
    "\n",
    "# Create Neo4j driver\n",
    "driver = GraphDatabase.driver(URI, auth=AUTH)\n",
    "\n",
    "# Initialize LLM and embeddings\n",
    "llm = OpenAILLM(\n",
    "    model_name=\"gpt-4\",\n",
    "    model_params={\n",
    "        \"temperature\": 0  # Lower temperature for more deterministic results\n",
    "    }\n",
    ")\n",
    "\n",
    "embedder = OpenAIEmbeddings()"
   ]
  },
  {
   "cell_type": "markdown",
   "metadata": {},
   "source": [
    "## Create Vector Index\n",
    "\n",
    "First, let's create a vector index for our documents:"
   ]
  },
  {
   "cell_type": "code",
   "execution_count": null,
   "metadata": {},
   "outputs": [],
   "source": [
    "# Create vector index for document embeddings\n",
    "create_vector_index(\n",
    "    driver,\n",
    "    name=\"document_embeddings\",\n",
    "    label=\"Document\",\n",
    "    embedding_property=\"embedding\",\n",
    "    dimensions=1536,\n",
    "    similarity_fn=\"cosine\"\n",
    ")"
   ]
  },
  {
   "cell_type": "markdown",
   "metadata": {},
   "source": [
    "## Pattern 1: Simple Vector Search\n",
    "\n",
    "Let's start with basic vector similarity search:"
   ]
  },
  {
   "cell_type": "code",
   "execution_count": null,
   "metadata": {},
   "outputs": [],
   "source": [
    "# Initialize basic vector retriever\n",
    "vector_retriever = VectorRetriever(\n",
    "    driver,\n",
    "    index_name=\"document_embeddings\",\n",
    "    embedder=embedder,\n",
    "    return_properties=[\"text\"]\n",
    ")\n",
    "\n",
    "# Create RAG template\n",
    "rag_template = RagTemplate(\n",
    "    template=\"\"\"Answer the Question using the following Context. Only respond with information mentioned in the Context.\n",
    "\n",
    "# Question:\n",
    "{query_text}\n",
    "\n",
    "# Context:\n",
    "{context}\n",
    "\n",
    "# Answer:\n",
    "\"\"\",\n",
    "    expected_inputs=['query_text', 'context']\n",
    ")\n",
    "\n",
    "# Initialize GraphRAG with vector retriever\n",
    "vector_rag = GraphRAG(llm=llm, retriever=vector_retriever, prompt_template=rag_template)\n",
    "\n",
    "# Example query\n",
    "question = \"What are the key features of our laptop products?\"\n",
    "result = vector_rag.search(question, retriever_config={'top_k': 3})\n",
    "print(f\"Answer: {result.answer}\")"
   ]
  },
  {
   "cell_type": "markdown",
   "metadata": {},
   "source": [
    "## Pattern 2: Simple Graph Context\n",
    "\n",
    "Now let's add basic graph context - just looking at directly connected nodes:"
   ]
  },
  {
   "cell_type": "code",
   "execution_count": null,
   "metadata": {},
   "outputs": [],
   "source": [
    "# Initialize simple graph retriever\n",
    "simple_graph_retriever = VectorCypherRetriever(\n",
    "    driver,\n",
    "    index_name=\"document_embeddings\",\n",
    "    embedder=embedder,\n",
    "    retrieval_query=\"\"\"\n",
    "    // Start with similar documents\n",
    "    WITH node AS doc\n",
    "    \n",
    "    // Get directly connected documents\n",
    "    OPTIONAL MATCH (doc)-[:ABOUT]->(p:Product)\n",
    "    \n",
    "    // Return document text\n",
    "    RETURN doc.text + '\\nProduct: ' + p.name as info\n",
    "    \"\"\"\n",
    ")\n",
    "\n",
    "# Initialize GraphRAG with simple graph retriever\n",
    "simple_graph_rag = GraphRAG(llm=llm, retriever=simple_graph_retriever, prompt_template=rag_template)\n",
    "\n",
    "# Example query\n",
    "question = \"Tell me about the Laptop Pro model.\"\n",
    "result = simple_graph_rag.search(question, retriever_config={'top_k': 3})\n",
    "print(f\"Answer: {result.answer}\")"
   ]
  },
  {
   "cell_type": "markdown",
   "metadata": {},
   "source": [
    "## Pattern 3: Adding Support Cases\n",
    "\n",
    "Let's extend our graph context to include support cases:"
   ]
  },
  {
   "cell_type": "code",
   "execution_count": null,
   "metadata": {},
   "outputs": [],
   "source": [
    "# Initialize support case retriever\n",
    "support_retriever = VectorCypherRetriever(\n",
    "    driver,\n",
    "    index_name=\"document_embeddings\",\n",
    "    embedder=embedder,\n",
    "    retrieval_query=\"\"\"\n",
    "    // Start with similar documents\n",
    "    WITH node AS doc\n",
    "    \n",
    "    // Get product and its support cases\n",
    "    MATCH (doc)-[:ABOUT]->(p:Product)\n",
    "    OPTIONAL MATCH (p)<-[:ABOUT]-(support:Document)\n",
    "    WHERE support.type = 'support_case'\n",
    "    \n",
    "    // Return combined information\n",
    "    RETURN \n",
    "        doc.text + \n",
    "        '\\nProduct: ' + p.name + \n",
    "        CASE WHEN support IS NOT NULL \n",
    "            THEN '\\nSupport Case: ' + support.text\n",
    "            ELSE ''\n",
    "        END as info\n",
    "    \"\"\"\n",
    ")\n",
    "\n",
    "# Initialize GraphRAG with support retriever\n",
    "support_rag = GraphRAG(llm=llm, retriever=support_retriever, prompt_template=rag_template)\n",
    "\n",
    "# Example query\n",
    "question = \"What issues have users reported with the Laptop Pro?\"\n",
    "result = support_rag.search(question, retriever_config={'top_k': 3})\n",
    "print(f\"Answer: {result.answer}\")"
   ]
  },
  {
   "cell_type": "markdown",
   "metadata": {},
   "source": [
    "## Pattern 4: Category-Based Context\n",
    "\n",
    "Finally, let's look at products in the same category:"
   ]
  },
  {
   "cell_type": "code",
   "execution_count": null,
   "metadata": {},
   "outputs": [],
   "source": [
    "# Initialize category-based retriever\n",
    "category_retriever = VectorCypherRetriever(\n",
    "    driver,\n",
    "    index_name=\"document_embeddings\",\n",
    "    embedder=embedder,\n",
    "    retrieval_query=\"\"\"\n",
    "    // Start with similar documents\n",
    "    WITH node AS doc\n",
    "    \n",
    "    // Get product and category\n",
    "    MATCH (doc)-[:ABOUT]->(p:Product)-[:IN_CATEGORY]->(cat:Category)\n",
    "    \n",
    "    // Get other products in same category\n",
    "    WITH doc, p, cat\n",
    "    MATCH (cat)<-[:IN_CATEGORY]-(related:Product)\n",
    "    WHERE related <> p\n",
    "    \n",
    "    // Return information\n",
    "    RETURN \n",
    "        doc.text + \n",
    "        '\\nProduct: ' + p.name +\n",
    "        '\\nCategory: ' + cat.name +\n",
    "        '\\nRelated Products: ' + collect(related.name)[0..3] as info\n",
    "    \"\"\"\n",
    ")\n",
    "\n",
    "# Initialize GraphRAG with category retriever\n",
    "category_rag = GraphRAG(llm=llm, retriever=category_retriever, prompt_template=rag_template)\n",
    "\n",
    "# Example query\n",
    "question = \"What other laptops are similar to the Laptop Pro?\"\n",
    "result = category_rag.search(question, retriever_config={'top_k': 3})\n",
    "print(f\"Answer: {result.answer}\")"
   ]
  },
  {
   "cell_type": "markdown",
   "metadata": {},
   "source": [
    "## Key GraphRAG Features Used\n",
    "\n",
    "1. **Vector Search**: Basic similarity search using embeddings\n",
    "2. **Simple Graph Context**: Direct relationships to products\n",
    "3. **Support Cases**: Including user-reported issues\n",
    "4. **Category Context**: Finding related products\n",
    "\n",
    "Each pattern builds on the previous one, gradually adding more graph context while keeping the queries focused and readable."
   ]
  }
 ],
 "metadata": {
  "kernelspec": {
   "display_name": "Python 3",
   "language": "python",
   "name": "python3"
  }
 },
 "nbformat": 4,
 "nbformat_minor": 4
}

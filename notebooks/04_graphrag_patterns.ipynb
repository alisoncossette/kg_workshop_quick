{
 "cells": [
  {
   "cell_type": "markdown",
   "metadata": {},
   "source": [
    "# GraphRAG Patterns\n",
    "\n",
    "Let's explore two key GraphRAG patterns:\n",
    "1. Customer Context Retrieval\n",
    "2. Product Knowledge Base"
   ]
  },
  {
   "cell_type": "code",
   "execution_count": null,
   "metadata": {},
   "outputs": [],
   "source": [
    "from neo4j import GraphDatabase\n",
    "from dotenv import load_dotenv\n",
    "import os\n",
    "\n",
    "load_dotenv()\n",
    "driver = GraphDatabase.driver(\n",
    "    os.getenv('NEO4J_URI'),\n",
    "    auth=(os.getenv('NEO4J_USERNAME'), os.getenv('NEO4J_PASSWORD'))\n",
    ")"
   ]
  },
  {
   "cell_type": "markdown",
   "metadata": {},
   "source": [
    "## Pattern 1: Customer Context Retrieval\n",
    "\n",
    "This pattern helps us understand a customer's history and context when they ask a question."
   ]
  },
  {
   "cell_type": "code",
   "execution_count": null,
   "metadata": {},
   "outputs": [],
   "source": [
    "def get_customer_context(customer_id):\n",
    "    with driver.session() as session:\n",
    "        result = session.run(\"\"\"\n",
    "        MATCH (c:Customer {customer_id: $customer_id})\n",
    "        \n",
    "        // Get recent orders\n",
    "        OPTIONAL MATCH (c)-[:PLACED_ORDER]->(o:Order)-[:CONTAINS]->(p:Product)\n",
    "        \n",
    "        // Get support cases\n",
    "        OPTIONAL MATCH (c)-[:HAS_CASE]->(d:Document {type: 'support_case'})\n",
    "        \n",
    "        // Get product manuals for purchased products\n",
    "        OPTIONAL MATCH (p)-[:HAS_MANUAL]->(m:Document {type: 'manual'})\n",
    "        \n",
    "        RETURN c.name as customer,\n",
    "               collect(DISTINCT p.name) as products,\n",
    "               collect(DISTINCT d.content) as support_cases,\n",
    "               collect(DISTINCT m.content) as manuals\n",
    "        \"\"\", customer_id=customer_id)\n",
    "        \n",
    "        return result.single()\n",
    "\n",
    "# Get context for John Doe\n",
    "context = get_customer_context('C1')\n",
    "print(f\"Customer: {context['customer']}\")\n",
    "print(f\"Products: {context['products']}\")\n",
    "print(f\"\\nSupport Cases: {len(context['support_cases'])}\")\n",
    "print(f\"Product Manuals: {len(context['manuals'])}\")"
   ]
  },
  {
   "cell_type": "markdown",
   "metadata": {},
   "source": [
    "## Pattern 2: Product Knowledge Base\n",
    "\n",
    "This pattern helps us find relevant product information and related support cases."
   ]
  },
  {
   "cell_type": "code",
   "execution_count": null,
   "metadata": {},
   "outputs": [],
   "source": [
    "def query_product_knowledge(product_id, query):\n",
    "    with driver.session() as session:\n",
    "        result = session.run(\"\"\"\n",
    "        MATCH (p:Product {product_id: $product_id})\n",
    "        \n",
    "        // Get product manual\n",
    "        OPTIONAL MATCH (p)-[:HAS_MANUAL]->(m:Document)\n",
    "        WHERE m.content CONTAINS $query\n",
    "        \n",
    "        // Get related support cases\n",
    "        OPTIONAL MATCH (p)<-[:ABOUT]-(c:Document)\n",
    "        WHERE c.content CONTAINS $query\n",
    "        \n",
    "        // Get similar products\n",
    "        OPTIONAL MATCH (p)-[:IN_CATEGORY]->(cat:Category)<-[:IN_CATEGORY]-(sp:Product)\n",
    "        WHERE p <> sp\n",
    "        \n",
    "        RETURN p.name as product,\n",
    "               collect(DISTINCT m.content) as manual_matches,\n",
    "               collect(DISTINCT c.content) as case_matches,\n",
    "               collect(DISTINCT sp.name) as similar_products\n",
    "        \"\"\", product_id=product_id, query=query)\n",
    "        \n",
    "        return result.single()\n",
    "\n",
    "# Query about laptop power issues\n",
    "knowledge = query_product_knowledge('P1', 'power')\n",
    "print(f\"Product: {knowledge['product']}\\n\")\n",
    "print(\"Manual Matches:\")\n",
    "for match in knowledge['manual_matches']:\n",
    "    print(f\"- {match[:100]}...\\n\")\n",
    "print(\"Support Case Matches:\")\n",
    "for match in knowledge['case_matches']:\n",
    "    print(f\"- {match[:100]}...\\n\")\n",
    "print(f\"Similar Products: {knowledge['similar_products']}\")"
   ]
  },
  {
   "cell_type": "markdown",
   "metadata": {},
   "source": [
    "## Combining Patterns\n",
    "\n",
    "Let's use both patterns to answer a customer question."
   ]
  },
  {
   "cell_type": "code",
   "execution_count": null,
   "metadata": {},
   "outputs": [],
   "source": [
    "def answer_customer_question(customer_id, question):\n",
    "    # First, get customer context\n",
    "    context = get_customer_context(customer_id)\n",
    "    \n",
    "    # For each product they own, search knowledge base\n",
    "    relevant_info = []\n",
    "    with driver.session() as session:\n",
    "        result = session.run(\"\"\"\n",
    "        MATCH (c:Customer {customer_id: $customer_id})\n",
    "        MATCH (c)-[:PLACED_ORDER]->(:Order)-[:CONTAINS]->(p:Product)\n",
    "        RETURN DISTINCT p.product_id as product_id\n",
    "        \"\"\", customer_id=customer_id)\n",
    "        \n",
    "        for record in result:\n",
    "            knowledge = query_product_knowledge(record['product_id'], question)\n",
    "            if knowledge['manual_matches'] or knowledge['case_matches']:\n",
    "                relevant_info.append(knowledge)\n",
    "    \n",
    "    return {\n",
    "        'customer': context['customer'],\n",
    "        'products': context['products'],\n",
    "        'relevant_info': relevant_info\n",
    "    }\n",
    "\n",
    "# Answer a question about power issues\n",
    "answer = answer_customer_question('C1', 'power issues')\n",
    "print(f\"Finding answer for {answer['customer']}\")\n",
    "print(f\"Products owned: {answer['products']}\\n\")\n",
    "print(\"Relevant Information:\")\n",
    "for info in answer['relevant_info']:\n",
    "    print(f\"\\nProduct: {info['product']}\")\n",
    "    if info['manual_matches']:\n",
    "        print(\"From Manual:\")\n",
    "        print(info['manual_matches'][0][:200])\n",
    "    if info['case_matches']:\n",
    "        print(\"\\nFrom Support Cases:\")\n",
    "        print(info['case_matches'][0][:200])"
   ]
  },
  {
   "cell_type": "markdown",
   "metadata": {},
   "source": [
    "## Next Steps\n",
    "\n",
    "Now let's see how we can enhance this with a memory graph to track interactions!"
   ]
  }
 ],
 "metadata": {
  "kernelspec": {
   "display_name": "Python 3",
   "language": "python",
   "name": "python3"
  }
 },
 "nbformat": 4,
 "nbformat_minor": 4
}

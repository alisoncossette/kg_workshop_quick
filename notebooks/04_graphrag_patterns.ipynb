{
 "cells": [
  {
   "cell_type": "markdown",
   "metadata": {},
   "source": [
    "# GraphRAG Patterns with Neo4j\n",
    "\n",
    "This notebook demonstrates how to use Neo4j's GraphRAG library to implement retrieval-augmented generation with graph context."
   ]
  },
  {
   "cell_type": "code",
   "execution_count": null,
   "metadata": {},
   "outputs": [],
   "source": [
    "from neo4j import GraphDatabase\n",
    "from dotenv import load_dotenv\n",
    "import os\n",
    "from graphrag import GraphRAG\n",
    "\n",
    "# Load environment variables\n",
    "load_dotenv()\n",
    "\n",
    "# Initialize Neo4j connection\n",
    "URI = os.getenv('NEO4J_URI')\n",
    "AUTH = (os.getenv('NEO4J_USERNAME'), os.getenv('NEO4J_PASSWORD'))\n",
    "OPENAI_API_KEY = os.getenv('OPENAI_API_KEY')\n",
    "\n",
    "# Initialize GraphRAG\n",
    "graph_rag = GraphRAG(\n",
    "    uri=URI,\n",
    "    username=AUTH[0],\n",
    "    password=AUTH[1],\n",
    "    openai_api_key=OPENAI_API_KEY\n",
    ")"
   ]
  },
  {
   "cell_type": "markdown",
   "metadata": {},
   "source": [
    "## Create Vector Index\n",
    "\n",
    "First, let's create a vector index for our documents:"
   ]
  },
  {
   "cell_type": "code",
   "execution_count": null,
   "metadata": {},
   "outputs": [],
   "source": [
    "# Create vector index on Document nodes\n",
    "graph_rag.create_vector_index(\n",
    "    index_name=\"document_embeddings\",\n",
    "    node_label=\"Document\",\n",
    "    property_name=\"content\"\n",
    ")"
   ]
  },
  {
   "cell_type": "markdown",
   "metadata": {},
   "source": [
    "## Pattern 1: Document Question-Answering\n",
    "\n",
    "Let's ask questions about our product documentation:"
   ]
  },
  {
   "cell_type": "code",
   "execution_count": null,
   "metadata": {},
   "outputs": [],
   "source": [
    "# Ask a question about laptop troubleshooting\n",
    "question = \"What are the steps to troubleshoot laptop connectivity issues?\"\n",
    "\n",
    "answer = graph_rag.ask(\n",
    "    question=question,\n",
    "    cypher_query=\"\"\"\n",
    "    MATCH (d:Document)\n",
    "    WHERE d.type = 'manual' OR d.type = 'support_case'\n",
    "    RETURN d.content as text\n",
    "    \"\"\"\n",
    ")\n",
    "\n",
    "print(f\"Question: {question}\\n\")\n",
    "print(f\"Answer: {answer}\")"
   ]
  },
  {
   "cell_type": "markdown",
   "metadata": {},
   "source": [
    "## Pattern 2: Context-Enhanced Responses\n",
    "\n",
    "Now let's use graph relationships to enhance our responses:"
   ]
  },
  {
   "cell_type": "code",
   "execution_count": null,
   "metadata": {},
   "outputs": [],
   "source": [
    "# Ask about a specific product with context\n",
    "question = \"What are common issues with the Laptop Pro model?\"\n",
    "\n",
    "answer = graph_rag.ask(\n",
    "    question=question,\n",
    "    cypher_query=\"\"\"\n",
    "    // Find product documentation\n",
    "    MATCH (p:Product {name: 'Laptop Pro'})-[:HAS_MANUAL]->(m:Document)\n",
    "    \n",
    "    // Find related support cases\n",
    "    OPTIONAL MATCH (p)<-[:ABOUT]-(c:Document)\n",
    "    WHERE c.type = 'support_case'\n",
    "    \n",
    "    // Return both manual content and support cases\n",
    "    RETURN \n",
    "        m.content as manual,\n",
    "        collect(c.content) as support_cases\n",
    "    \"\"\"\n",
    ")\n",
    "\n",
    "print(f\"Question: {question}\\n\")\n",
    "print(f\"Answer: {answer}\")"
   ]
  },
  {
   "cell_type": "markdown",
   "metadata": {},
   "source": [
    "## Pattern 3: Multi-Hop Knowledge Retrieval\n",
    "\n",
    "Let's use graph traversal to gather related information:"
   ]
  },
  {
   "cell_type": "code",
   "execution_count": null,
   "metadata": {},
   "outputs": [],
   "source": [
    "# Ask about related product issues\n",
    "question = \"What issues are common across laptop models?\"\n",
    "\n",
    "answer = graph_rag.ask(\n",
    "    question=question,\n",
    "    cypher_query=\"\"\"\n",
    "    // Find products in the laptop category\n",
    "    MATCH (cat:Category {name: 'Laptops'})<-[:IN_CATEGORY]-(p:Product)\n",
    "    \n",
    "    // Get support cases for these products\n",
    "    MATCH (p)<-[:ABOUT]-(c:Document)\n",
    "    WHERE c.type = 'support_case'\n",
    "    \n",
    "    // Return product info and support cases\n",
    "    RETURN \n",
    "        p.name as product,\n",
    "        collect(c.content) as cases\n",
    "    \"\"\"\n",
    ")\n",
    "\n",
    "print(f\"Question: {question}\\n\")\n",
    "print(f\"Answer: {answer}\")"
   ]
  },
  {
   "cell_type": "markdown",
   "metadata": {},
   "source": [
    "## Pattern 4: Customer Support Context\n",
    "\n",
    "Let's use customer history to provide personalized responses:"
   ]
  },
  {
   "cell_type": "code",
   "execution_count": null,
   "metadata": {},
   "outputs": [],
   "source": [
    "# Ask about customer-specific issues\n",
    "customer_id = \"C1\"\n",
    "question = \"What issues has this customer experienced with their products?\"\n",
    "\n",
    "answer = graph_rag.ask(\n",
    "    question=question,\n",
    "    cypher_query=\"\"\"\n",
    "    // Find customer's products\n",
    "    MATCH (c:Customer {id: $customer_id})-[:PLACED_ORDER]->(o:Order)-[:CONTAINS]->(p:Product)\n",
    "    \n",
    "    // Get support cases for these products\n",
    "    MATCH (c)-[:HAS_CASE]->(sc:Document)\n",
    "    WHERE sc.type = 'support_case'\n",
    "    \n",
    "    // Get product manuals\n",
    "    MATCH (p)-[:HAS_MANUAL]->(m:Document)\n",
    "    \n",
    "    // Return all context\n",
    "    RETURN \n",
    "        c.name as customer,\n",
    "        collect(DISTINCT p.name) as products,\n",
    "        collect(DISTINCT sc.content) as support_cases,\n",
    "        collect(DISTINCT m.content) as manuals\n",
    "    \"\"\",\n",
    "    params={\"customer_id\": customer_id}\n",
    ")\n",
    "\n",
    "print(f\"Question: {question}\\n\")\n",
    "print(f\"Answer: {answer}\")"
   ]
  },
  {
   "cell_type": "markdown",
   "metadata": {},
   "source": [
    "## Key GraphRAG Features Used\n",
    "\n",
    "1. **Vector Search**: Automatic embedding and similarity search\n",
    "2. **Graph Context**: Using graph relationships to enhance retrieval\n",
    "3. **Cypher Integration**: Flexible graph queries for context gathering\n",
    "4. **Multi-Document RAG**: Combining information from multiple sources\n",
    "5. **Parameter Support**: Dynamic querying based on input parameters"
   ]
  }
 ],
 "metadata": {
  "kernelspec": {
   "display_name": "Python 3",
   "language": "python",
   "name": "python3"
  }
 },
 "nbformat": 4,
 "nbformat_minor": 4
}

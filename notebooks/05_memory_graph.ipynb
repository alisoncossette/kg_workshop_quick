{
 "cells": [
  {
   "cell_type": "markdown",
   "metadata": {},
   "source": [
    "# Memory Graph Preview\n",
    "\n",
    "Let's see how a memory graph can enhance our CRM system by tracking:\n",
    "- Questions asked\n",
    "- Answers provided\n",
    "- Customer feedback\n",
    "- Support context"
   ]
  },
  {
   "cell_type": "code",
   "execution_count": null,
   "metadata": {},
   "source": [
    "from neo4j import GraphDatabase\n",
    "from dotenv import load_dotenv\n",
    "import os\n",
    "from datetime import datetime\n",
    "\n",
    "load_dotenv()\n",
    "driver = GraphDatabase.driver(\n",
    "    os.getenv('NEO4J_URI'),\n",
    "    auth=(os.getenv('NEO4J_USERNAME'), os.getenv('NEO4J_PASSWORD'))\n",
    ")"
   ]
  },
  {
   "cell_type": "markdown",
   "metadata": {},
   "source": [
    "## Record Customer Question"
   ]
  },
  {
   "cell_type": "code",
   "execution_count": null,
   "metadata": {},
   "source": [
    "def record_interaction(customer_id, question):\n",
    "    with driver.session() as session:\n",
    "        result = session.run(\"\"\"\n",
    "        // Create interaction nodes\n",
    "        MATCH (c:Customer {customer_id: $customer_id})\n",
    "        CREATE (i:Interaction {\n",
    "            id: randomUUID(),\n",
    "            timestamp: datetime(),\n",
    "            question: $question\n",
    "        })\n",
    "        CREATE (c)-[:HAD_INTERACTION]->(i)\n",
    "        \n",
    "        // Get context from recent interactions\n",
    "        WITH c, i\n",
    "        MATCH (c)-[:HAD_INTERACTION]->(prev:Interaction)\n",
    "        WHERE prev.timestamp > datetime() - duration('P7D')\n",
    "        \n",
    "        // Create memory nodes\n",
    "        CREATE (m:Memory {\n",
    "            id: randomUUID(),\n",
    "            type: 'context',\n",
    "            content: 'Previous interaction: ' + prev.question\n",
    "        })\n",
    "        CREATE (i)-[:HAS_CONTEXT]->(m)\n",
    "        \n",
    "        RETURN i.id as interaction_id\n",
    "        \"\"\", customer_id=customer_id, question=question)\n",
    "        \n",
    "        return result.single()['interaction_id']\n",
    "\n",
    "# Record a new question\n",
    "interaction_id = record_interaction('C1', 'How do I extend my laptop battery life?')\n",
    "print(f\"Recorded interaction: {interaction_id}\")"
   ]
  },
  {
   "cell_type": "markdown",
   "metadata": {},
   "source": [
    "## Analyze Interaction History"
   ]
  },
  {
   "cell_type": "code",
   "execution_count": null,
   "metadata": {},
   "source": [
    "def get_interaction_history(customer_id):\n",
    "    with driver.session() as session:\n",
    "        result = session.run(\"\"\"\n",
    "        MATCH (c:Customer {customer_id: $customer_id})\n",
    "        MATCH (c)-[:HAD_INTERACTION]->(i:Interaction)\n",
    "        OPTIONAL MATCH (i)-[:HAS_CONTEXT]->(m:Memory)\n",
    "        RETURN i.timestamp as timestamp,\n",
    "               i.question as question,\n",
    "               collect(m.content) as context\n",
    "        ORDER BY i.timestamp DESC\n",
    "        \"\"\", customer_id=customer_id)\n",
    "        \n",
    "        return list(result)\n",
    "\n",
    "# View interaction history\n",
    "history = get_interaction_history('C1')\n",
    "for interaction in history:\n",
    "    print(f\"\\nTime: {interaction['timestamp']}\")\n",
    "    print(f\"Question: {interaction['question']}\")\n",
    "    if interaction['context']:\n",
    "        print(\"Context:\")\n",
    "        for ctx in interaction['context']:\n",
    "            print(f\"- {ctx}\")"
   ]
  },
  {
   "cell_type": "markdown",
   "metadata": {},
   "source": [
    "## Quick Challenge\n",
    "\n",
    "Use both GraphRAG patterns and the memory graph to:\n",
    "1. Find relevant product info\n",
    "2. Check interaction history\n",
    "3. Provide a contextual answer"
   ]
  },
  {
   "cell_type": "code",
   "execution_count": null,
   "metadata": {},
   "source": [
    "def answer_with_context(customer_id, question):\n",
    "    # Your solution here!\n",
    "    pass"
   ]
  }
 ],
 "metadata": {
  "kernelspec": {
   "display_name": "Python 3",
   "language": "python",
   "name": "python3"
  }
 },
 "nbformat": 4,
 "nbformat_minor": 4
}

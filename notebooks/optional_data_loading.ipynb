{
 "cells": [
  {
   "cell_type": "markdown",
   "metadata": {},
   "source": [
    "# Optional: Load Sample Data\n",
    "\n",
    "This notebook shows how to load sample CSV data into Neo4j. This is optional and only needed if you want to experiment with sample data."
   ]
  },
  {
   "cell_type": "code",
   "execution_count": null,
   "metadata": {},
   "outputs": [],
   "source": [
    "from neo4j import GraphDatabase\n",
    "from dotenv import load_dotenv\n",
    "import os\n",
    "import pandas as pd\n",
    "\n",
    "# Connect to Neo4j\n",
    "load_dotenv()\n",
    "uri = os.getenv('NEO4J_URI')\n",
    "auth = (os.getenv('NEO4J_USERNAME'), os.getenv('NEO4J_PASSWORD'))\n",
    "driver = GraphDatabase.driver(uri, auth=auth)"
   ]
  },
  {
   "cell_type": "markdown",
   "metadata": {},
   "source": [
    "## Clear Existing Data\n",
    "\n",
    "First, let's clear any existing data from the database:"
   ]
  },
  {
   "cell_type": "code",
   "execution_count": null,
   "metadata": {},
   "outputs": [],
   "source": [
    "def clear_database():\n",
    "    \"\"\"Clear all nodes and relationships from the database.\"\"\"\n",
    "    with driver.session() as session:\n",
    "        session.run(\"MATCH (n) DETACH DELETE n\")\n",
    "        print(\"Cleared database\")\n",
    "\n",
    "clear_database()"
   ]
  },
  {
   "cell_type": "markdown",
   "metadata": {},
   "source": [
    "## Load Customer Data\n",
    "\n",
    "Now let's load the customer data from customers.csv:"
   ]
  },
  {
   "cell_type": "code",
   "execution_count": null,
   "metadata": {},
   "outputs": [],
   "source": [
    "def load_customers():\n",
    "    \"\"\"Load customer data into Neo4j.\"\"\"\n",
    "    # Read CSV file\n",
    "    customers_df = pd.read_csv('../data/customers.csv')\n",
    "    \n",
    "    with driver.session() as session:\n",
    "        # Create Customer nodes\n",
    "        session.run(\"\"\"\n",
    "        UNWIND $customers AS customer\n",
    "        CREATE (c:Customer {\n",
    "            id: customer.customer_id,\n",
    "            name: customer.name,\n",
    "            email: customer.email,\n",
    "            join_date: date(customer.join_date)\n",
    "        })\n",
    "        \"\"\", customers=customers_df.to_dict('records'))\n",
    "        print(\"Loaded customers\")\n",
    "\n",
    "load_customers()"
   ]
  },
  {
   "cell_type": "markdown",
   "metadata": {},
   "source": [
    "## Load Product Data\n",
    "\n",
    "Next, let's load the product data and create category relationships:"
   ]
  },
  {
   "cell_type": "code",
   "execution_count": null,
   "metadata": {},
   "outputs": [],
   "source": [
    "def load_products():\n",
    "    \"\"\"Load product data into Neo4j.\"\"\"\n",
    "    # Read CSV file\n",
    "    products_df = pd.read_csv('../data/products.csv')\n",
    "    \n",
    "    with driver.session() as session:\n",
    "        # Create Product and Category nodes\n",
    "        session.run(\"\"\"\n",
    "        UNWIND $products AS product\n",
    "        MERGE (cat:Category {name: product.category})\n",
    "        CREATE (p:Product {\n",
    "            id: product.product_id,\n",
    "            name: product.name,\n",
    "            price: toFloat(product.price)\n",
    "        })\n",
    "        CREATE (p)-[:IN_CATEGORY]->(cat)\n",
    "        \"\"\", products=products_df.to_dict('records'))\n",
    "        print(\"Loaded products\")\n",
    "\n",
    "load_products()"
   ]
  },
  {
   "cell_type": "markdown",
   "metadata": {},
   "source": [
    "## Load Order Data\n",
    "\n",
    "Finally, let's load the order data and create relationships to customers and products:"
   ]
  },
  {
   "cell_type": "code",
   "execution_count": null,
   "metadata": {},
   "outputs": [],
   "source": [
    "def load_orders():\n",
    "    \"\"\"Load order data into Neo4j.\"\"\"\n",
    "    # Read CSV file\n",
    "    orders_df = pd.read_csv('../data/orders.csv')\n",
    "    \n",
    "    with driver.session() as session:\n",
    "        # Create Order nodes and relationships\n",
    "        session.run(\"\"\"\n",
    "        UNWIND $orders AS order\n",
    "        MATCH (c:Customer {id: order.customer_id})\n",
    "        MATCH (p:Product {id: order.product_id})\n",
    "        CREATE (o:Order {\n",
    "            id: order.order_id,\n",
    "            date: date(order.order_date),\n",
    "            quantity: toInteger(order.quantity)\n",
    "        })\n",
    "        CREATE (c)-[:PLACED_ORDER]->(o)\n",
    "        CREATE (o)-[:CONTAINS]->(p)\n",
    "        \"\"\", orders=orders_df.to_dict('records'))\n",
    "        print(\"Loaded orders\")\n",
    "\n",
    "load_orders()"
   ]
  },
  {
   "cell_type": "markdown",
   "metadata": {},
   "source": [
    "## Verify Data Loading\n",
    "\n",
    "Let's verify that our data was loaded correctly:"
   ]
  },
  {
   "cell_type": "code",
   "execution_count": null,
   "metadata": {},
   "outputs": [],
   "source": [
    "def count_nodes():\n",
    "    \"\"\"Count nodes by label.\"\"\"\n",
    "    with driver.session() as session:\n",
    "        result = session.run(\"\"\"\n",
    "        MATCH (n)\n",
    "        RETURN labels(n)[0] as label, count(*) as count\n",
    "        \"\"\")\n",
    "        for record in result:\n",
    "            print(f\"{record['label']}: {record['count']} nodes\")\n",
    "\n",
    "print(\"Node counts:\")\n",
    "count_nodes()"
   ]
  },
  {
   "cell_type": "code",
   "execution_count": null,
   "metadata": {},
   "outputs": [],
   "source": [
    "def verify_relationships():\n",
    "    \"\"\"Verify relationships between nodes.\"\"\"\n",
    "    with driver.session() as session:\n",
    "        # Check customer orders\n",
    "        result = session.run(\"\"\"\n",
    "        MATCH (c:Customer)-[:PLACED_ORDER]->(o:Order)-[:CONTAINS]->(p:Product)\n",
    "        RETURN c.name as customer, p.name as product, o.date as date\n",
    "        LIMIT 5\n",
    "        \"\"\")\n",
    "        print(\"\\nSample orders:\")\n",
    "        for record in result:\n",
    "            print(f\"{record['customer']} ordered {record['product']} on {record['date']}\")\n",
    "        \n",
    "        # Check product categories\n",
    "        result = session.run(\"\"\"\n",
    "        MATCH (p:Product)-[:IN_CATEGORY]->(c:Category)\n",
    "        RETURN c.name as category, count(p) as product_count\n",
    "        \"\"\")\n",
    "        print(\"\\nProducts by category:\")\n",
    "        for record in result:\n",
    "            print(f\"{record['category']}: {record['product_count']} products\")\n",
    "\n",
    "verify_relationships()"
   ]
  },
  {
   "cell_type": "markdown",
   "metadata": {},
   "source": [
    "## Next Steps\n",
    "\n",
    "Now that we have sample data loaded, you can proceed with the other notebooks to learn about:\n",
    "1. Knowledge Graph concepts\n",
    "2. Document processing\n",
    "3. GraphRAG patterns\n",
    "4. Memory Graph"
   ]
  }
 ],
 "metadata": {
  "kernelspec": {
   "display_name": "Python 3",
   "language": "python",
   "name": "python3"
  }
 },
 "nbformat": 4,
 "nbformat_minor": 4
}

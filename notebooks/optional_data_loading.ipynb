{
 "cells": [
  {
   "cell_type": "markdown",
   "metadata": {},
   "source": [
    "# Optional: Load Sample Data\n",
    "\n",
    "This notebook demonstrates how to load the sample CSV data into Neo4j. This is optional and only needed if you want to experiment with sample data."
   ]
  },
  {
   "cell_type": "code",
   "execution_count": null,
   "metadata": {},
   "outputs": [],
   "source": [
    "import sys\n",
    "sys.path.append('..')\n",
    "from scripts.load_csv_data import main\n",
    "\n",
    "# Load the sample data\n",
    "main()"
   ]
  },
  {
   "cell_type": "markdown",
   "metadata": {},
   "source": [
    "## Verify Data Loading\n",
    "\n",
    "Let's verify that our data was loaded correctly:"
   ]
  },
  {
   "cell_type": "code",
   "execution_count": null,
   "metadata": {},
   "outputs": [],
   "source": [
    "from neo4j import GraphDatabase\n",
    "from dotenv import load_dotenv\n",
    "import os\n",
    "\n",
    "# Connect to Neo4j\n",
    "load_dotenv()\n",
    "driver = GraphDatabase.driver(\n",
    "    os.getenv('NEO4J_URI'),\n",
    "    auth=(os.getenv('NEO4J_USERNAME'), os.getenv('NEO4J_PASSWORD'))\n",
    ")"
   ]
  },
  {
   "cell_type": "code",
   "execution_count": null,
   "metadata": {},
   "outputs": [],
   "source": [
    "def count_nodes():\n",
    "    \"\"\"Count nodes by label.\"\"\"\n",
    "    with driver.session() as session:\n",
    "        result = session.run(\"\"\"\n",
    "        MATCH (n)\n",
    "        RETURN labels(n)[0] as label, count(*) as count\n",
    "        \"\"\")\n",
    "        for record in result:\n",
    "            print(f\"{record['label']}: {record['count']} nodes\")\n",
    "\n",
    "print(\"Node counts:\")\n",
    "count_nodes()"
   ]
  },
  {
   "cell_type": "code",
   "execution_count": null,
   "metadata": {},
   "outputs": [],
   "source": [
    "def verify_relationships():\n",
    "    \"\"\"Verify relationships between nodes.\"\"\"\n",
    "    with driver.session() as session:\n",
    "        # Check customer orders\n",
    "        result = session.run(\"\"\"\n",
    "        MATCH (c:Customer)-[:PLACED_ORDER]->(o:Order)-[:CONTAINS]->(p:Product)\n",
    "        RETURN c.name as customer, p.name as product, o.date as date\n",
    "        LIMIT 5\n",
    "        \"\"\")\n",
    "        print(\"\\nSample orders:\")\n",
    "        for record in result:\n",
    "            print(f\"{record['customer']} ordered {record['product']} on {record['date']}\")\n",
    "        \n",
    "        # Check product categories\n",
    "        result = session.run(\"\"\"\n",
    "        MATCH (p:Product)-[:IN_CATEGORY]->(c:Category)\n",
    "        RETURN c.name as category, count(p) as product_count\n",
    "        \"\"\")\n",
    "        print(\"\\nProducts by category:\")\n",
    "        for record in result:\n",
    "            print(f\"{record['category']}: {record['product_count']} products\")\n",
    "\n",
    "verify_relationships()"
   ]
  },
  {
   "cell_type": "markdown",
   "metadata": {},
   "source": [
    "## Next Steps\n",
    "\n",
    "Now that we have sample data loaded, you can proceed with the other notebooks to learn about:\n",
    "1. Knowledge Graph concepts\n",
    "2. Document processing\n",
    "3. GraphRAG patterns\n",
    "4. Memory Graph"
   ]
  }
 ],
 "metadata": {
  "kernelspec": {
   "display_name": "Python 3",
   "language": "python",
   "name": "python3"
  }
 },
 "nbformat": 4,
 "nbformat_minor": 4
}
